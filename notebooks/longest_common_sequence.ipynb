{
 "cells": [
  {
   "cell_type": "markdown",
   "metadata": {},
   "source": [
    "# Longest Common Sequence"
   ]
  },
  {
   "cell_type": "code",
   "execution_count": 5,
   "metadata": {},
   "outputs": [],
   "source": [
    "def lcs_dp(s: str, t: str) -> tuple[int, list[list[int]]]:\n",
    "    \"\"\"\n",
    "        Arg 1: One string you want to get Longest Common Sequence (LCS).\n",
    "        Arg 2: Another string you want to get LCS.\n",
    "        Returns -> Tuple of length of LCS and dynamic programming table.\n",
    "    \"\"\"\n",
    "    n, m = len(s), len(t)\n",
    "    \n",
    "    # dpテーブルの初期化\n",
    "    dp = [[0 for _ in range(m+1)] for _ in range(n+1)]\n",
    "\n",
    "    # dpテーブルを埋める\n",
    "    for i in range(n):\n",
    "        for j in range(m):\n",
    "            if s[i] == t[j]:\n",
    "                dp[i+1][j+1] = dp[i][j] + 1\n",
    "            else:\n",
    "                dp[i+1][j+1] = max(dp[i+1][j], dp[i][j+1])\n",
    "    return dp[n][m], dp\n",
    "\n",
    "def lcs_from_table(s: str, t: str, dp: list[list[int]]) -> str:\n",
    "    \"\"\"\n",
    "        Arg1: One string you got Longest Common Sequenct(LCS).\n",
    "        Arg2: Another string you got LCS.\n",
    "        Arg3:\n",
    "            Completed dp table of Longest Common Sequence (LCS) whose dp[-1][-1] is length of LCS.\n",
    "        Returns -> One of LCS between X and Y.\n",
    "    \"\"\"\n",
    "    \n",
    "    n, m = len(dp)-1, len(dp[0])-1\n",
    "    lcs = []\n",
    "    while n > 0 and m > 0:\n",
    "        if s[n-1] == t[m-1]:\n",
    "            lcs.append(X[n-1])\n",
    "            n -= 1\n",
    "            m -= 1\n",
    "        else:\n",
    "            if dp[n][m] == dp[n-1][m]:\n",
    "                n -= 1\n",
    "                continue\n",
    "            if dp[n][m] == dp[n][m-1]:\n",
    "                m -= 1\n",
    "                continue\n",
    "    lcs.reverse()\n",
    "    return ''.join(lcs)"
   ]
  },
  {
   "cell_type": "code",
   "execution_count": null,
   "metadata": {},
   "outputs": [],
   "source": [
    "X, Y = 'abbefh', 'bbcegh'\n",
    "# X, Y = 'A', 'A'\n",
    "# X, Y = 'ATCGA', 'CGATC'\n",
    "\n",
    "l, table = lcs_dp(X, Y)\n",
    "\n",
    "for row in table:\n",
    "    print(row)\n",
    "\n",
    "print(lcs_from_table(X, Y, table))"
   ]
  },
  {
   "cell_type": "code",
   "execution_count": 9,
   "metadata": {},
   "outputs": [],
   "source": [
    "filenames = [\n",
    "    \"営業日報-高橋-20250210\",\n",
    "    \"営業日報-尾崎-20250205\",\n",
    "    \"業務報告_峯岸_2025\",\n",
    "    \"営業日報-鈴木浩平-20240901\",\n",
    "    \"営業日報-坂東良一-20250301\",\n",
    "    \"営業日報-立花葵-20250205\",\n",
    "    \"業務報告-遠藤-20250310\"\n",
    "]"
   ]
  },
  {
   "cell_type": "code",
   "execution_count": 14,
   "metadata": {},
   "outputs": [
    {
     "name": "stdout",
     "output_type": "stream",
     "text": [
      "営業日報-高橋-20250210\n",
      "10\n",
      "営業日報-尾崎-20250205\n",
      "10\n",
      "業務報告_峯岸_2025\n",
      "6\n",
      "営業日報-鈴木浩平-20240901\n",
      "8\n",
      "営業日報-坂東良一-20250301\n",
      "9\n",
      "営業日報-立花葵-20250205\n",
      "10\n",
      "業務報告-遠藤-20250310\n",
      "7\n",
      "['営業日報-高橋-20250210', '営業日報-尾崎-20250205', '営業日報-立花葵-20250205']\n"
     ]
    }
   ],
   "source": [
    "lcs_map = {}\n",
    "\n",
    "key = \"営業日報202502\"\n",
    "for filename in filenames:\n",
    "    print(filename)\n",
    "    lcs_length, table = lcs_dp(key, filename)\n",
    "    print(lcs_length)\n",
    "    \n",
    "    if lcs_length not in lcs_map:\n",
    "        lcs_map[lcs_length] = []\n",
    "    lcs_map[lcs_length].append(filename)\n",
    "print(lcs_map[10])"
   ]
  }
 ],
 "metadata": {
  "kernelspec": {
   "display_name": "Python 3",
   "language": "python",
   "name": "python3"
  },
  "language_info": {
   "codemirror_mode": {
    "name": "ipython",
    "version": 3
   },
   "file_extension": ".py",
   "mimetype": "text/x-python",
   "name": "python",
   "nbconvert_exporter": "python",
   "pygments_lexer": "ipython3",
   "version": "3.11.11"
  }
 },
 "nbformat": 4,
 "nbformat_minor": 2
}
