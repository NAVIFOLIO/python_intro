{
  "cells": [
    {
      "cell_type": "markdown",
      "metadata": {
        "id": "0_jfic9b5zqh"
      },
      "source": [
        "# PythonでのCSVファイルの扱い方\n",
        "\n",
        "[![Open In Colab](https://colab.research.google.com/assets/colab-badge.svg)](https://colab.research.google.com/github/NAVIFOLIO/python_intro/blob/main/notebooks/python_csv_basic.ipynb)\n",
        "\n",
        "**このノートブックでは、以下の記事で解説しているソースコードを実行して確認することができます。**\n",
        "\n",
        "**[【Python】CSVファイルの読み書きと処理のススメ](https://navifolio-jp.com/csv-handing-in-python)**"
      ]
    },
    {
      "cell_type": "markdown",
      "metadata": {
        "id": "E3HYkGqKD6P7"
      },
      "source": [
        "## \"Vanilla\" PythonでのCSVデータ操作\n",
        "\n",
        "宿泊記録guests.csvを題材に、CSVファイルのシンプルな扱い方を学びましょう。  \n",
        "\n",
        "※事前準備  \n",
        "guests.csvを用意するために以下のコードを実行してください。"
      ]
    },
    {
      "cell_type": "code",
      "execution_count": null,
      "metadata": {
        "colab": {
          "base_uri": "https://localhost:8080/"
        },
        "id": "NaImQFjWHm2V",
        "outputId": "6143610b-0712-402a-8263-dd7e9949fbab"
      },
      "outputs": [
        {
          "name": "stdout",
          "output_type": "stream",
          "text": [
            "Drive already mounted at /content/drive; to attempt to forcibly remount, call drive.mount(\"/content/drive\", force_remount=True).\n"
          ]
        }
      ],
      "source": [
        "import csv\n",
        "from google.colab import drive\n",
        "\n",
        "\n",
        "drive.mount('/content/drive')\n",
        "\n",
        "\n",
        "CSV_DIR = '/content/drive/MyDrive/intro_to_programming/python/'\n",
        "\n",
        "def make_csv_sample():\n",
        "\n",
        "    with open(CSV_DIR + 'guests.csv', 'w') as f:\n",
        "\n",
        "        writer = csv.writer(f)\n",
        "        writer.writerow([\"宿泊日\",\"宿泊日数\",\"国籍\",\"性別\",\"年齢\"])\n",
        "        writer.writerow([\"2022/05/15\",\"2\",\"日本\",\"男性\",\"28\"])\n",
        "        writer.writerow([\"2022/06/20\",\"2\",\"日本\",\"男性\",\"51\"])\n",
        "        writer.writerow([\"2022/06/20\",\"2\",\"イギリス\",\"女性\",\"32\"])\n",
        "        writer.writerow([\"2022/07/03\",\"3\",\"イギリス\",\"男性\",\"35\"])\n",
        "        writer.writerow([\"2022/08/10\",\"4\",\"日本\",\"女性\",\"30\"])\n",
        "\n",
        "make_csv_sample()"
      ]
    },
    {
      "cell_type": "markdown",
      "metadata": {
        "id": "im-7nbsfBFpS"
      },
      "source": [
        "### CSVファイルの読み込み | csv.reader\n",
        "\n",
        "csvライブラリをインポートして、csv.readerでファイルを読み込みましょう。"
      ]
    },
    {
      "cell_type": "code",
      "execution_count": null,
      "metadata": {
        "colab": {
          "base_uri": "https://localhost:8080/"
        },
        "id": "Y0K7kNLl5SFo",
        "outputId": "b577cdb5-b1ef-4c0f-a45d-aab1dedaaa48"
      },
      "outputs": [
        {
          "name": "stdout",
          "output_type": "stream",
          "text": [
            "['宿泊日', '宿泊日数', '国籍', '性別', '年齢']\n",
            "['2022/05/15', '2', '日本', '男性', '28']\n",
            "['2022/06/20', '2', '日本', '男性', '51']\n",
            "['2022/06/20', '2', 'イギリス', '女性', '32']\n",
            "['2022/07/03', '3', 'イギリス', '男性', '35']\n",
            "['2022/08/10', '4', '日本', '女性', '30']\n"
          ]
        }
      ],
      "source": [
        "import csv\n",
        "\n",
        "#CSVファイルの読み込み\n",
        "with open(CSV_DIR + 'guests.csv', 'r') as f:\n",
        "    reader = csv.reader(f)\n",
        "\n",
        "    #1行ずつ出力\n",
        "    for row in reader:\n",
        "        print(row)"
      ]
    },
    {
      "cell_type": "markdown",
      "metadata": {
        "id": "YLy-FYfTA1eM"
      },
      "source": [
        "### CSVファイルへの書き込み | csv.writer"
      ]
    },
    {
      "cell_type": "markdown",
      "metadata": {
        "id": "PxNyZMxsBWlZ"
      },
      "source": [
        "csv.writerで、guests.csvにデータを書き込みましょう。"
      ]
    },
    {
      "cell_type": "code",
      "execution_count": null,
      "metadata": {
        "colab": {
          "base_uri": "https://localhost:8080/"
        },
        "id": "F4Yw70G_A0pU",
        "outputId": "2b97f11e-c2c9-4d23-d9ff-97d9efbbdbf3"
      },
      "outputs": [
        {
          "name": "stdout",
          "output_type": "stream",
          "text": [
            "['2022/12/10', '3', 'アメリカ', '女性', '25']\n",
            "['2022/12/10', '3', 'アメリカ', '男性', '30']\n"
          ]
        }
      ],
      "source": [
        "with open(CSV_DIR + 'guests.csv', 'w') as f:\n",
        "    writer = csv.writer(f)\n",
        "\n",
        "    #CSVファイルに書き込み\n",
        "    writer.writerow(['2022/12/10', '3', 'アメリカ', '女性', '25'])\n",
        "    writer.writerow(['2022/12/10', '3', 'アメリカ', '男性', '30'])\n",
        "\n",
        "#書き込み後のCSVファイルを確認\n",
        "with open(CSV_DIR + 'guests.csv', 'r') as f:\n",
        "    reader = csv.reader(f)\n",
        "    for row in reader:\n",
        "        print(row)"
      ]
    },
    {
      "cell_type": "markdown",
      "metadata": {
        "id": "DKwj56R1Dt_J"
      },
      "source": [
        "### CSVファイルへの追記 | appendモード\n"
      ]
    },
    {
      "cell_type": "code",
      "execution_count": null,
      "metadata": {
        "colab": {
          "base_uri": "https://localhost:8080/"
        },
        "id": "CZO-3CUzDiGj",
        "outputId": "14e28918-2adf-4c3a-fc47-6d4281144b79"
      },
      "outputs": [
        {
          "name": "stdout",
          "output_type": "stream",
          "text": [
            "['2022/12/10', '3', 'アメリカ', '女性', '25']\n",
            "['2022/12/10', '3', 'アメリカ', '男性', '30']\n",
            "['2022/12/20', '2', '日本', '男性', '50']\n"
          ]
        }
      ],
      "source": [
        "#　appendモード\n",
        "with open(CSV_DIR + 'guests.csv', 'a') as f:\n",
        "    writer = csv.writer(f)\n",
        "\n",
        "    writer.writerow(['2022/12/20', '2', '日本', '男性', '50'])\n",
        "\n",
        "#書き込み後のCSVファイルを読み込んで確認\n",
        "with open(CSV_DIR + 'guests.csv', 'r') as f:\n",
        "    reader = csv.reader(f)\n",
        "    for row in reader:\n",
        "        print(row)"
      ]
    },
    {
      "cell_type": "markdown",
      "metadata": {
        "id": "y-iIi2LgFvkK"
      },
      "source": [
        "## 2次元リストで操作\n",
        "\n",
        "2次元リストとしてCSVを読み込むことができ、\n",
        "\n",
        "$$ data[i-1][j-1]: 表i行j列目のデータ $$\n",
        "\n",
        "のように取り出す事ができます。data[0][0]は表の1行目、1列目のデータであることに注意\n"
      ]
    },
    {
      "cell_type": "code",
      "execution_count": null,
      "metadata": {
        "colab": {
          "base_uri": "https://localhost:8080/"
        },
        "id": "1h7JrfbvFfIO",
        "outputId": "a5508710-86e2-4501-b1a6-2f3ec19d160b"
      },
      "outputs": [
        {
          "name": "stdout",
          "output_type": "stream",
          "text": [
            "[['宿泊日', '宿泊日数', '国籍', '性別', '年齢'], ['2022/05/15', '2', '日本', '男性', '28'], ['2022/06/20', '2', '日本', '男性', '51'], ['2022/06/20', '2', 'イギリス', '女性', '32'], ['2022/07/03', '3', 'イギリス', '男性', '35'], ['2022/08/10', '4', '日本', '女性', '30']]\n"
          ]
        }
      ],
      "source": [
        "#　CSVファイルの内容を元に戻す\n",
        "make_csv_sample()\n",
        "\n",
        "with open(CSV_DIR + 'guests.csv', 'r') as f:\n",
        "    reader = csv.reader(f)\n",
        "\n",
        "    #CSV全体を2次元リストとして読み込み\n",
        "    data = [row for row in reader]\n",
        "\n",
        "    print(data)"
      ]
    },
    {
      "cell_type": "markdown",
      "metadata": {
        "id": "lCHDGNzsLmIf"
      },
      "source": [
        "#### スライス表記\n"
      ]
    },
    {
      "cell_type": "code",
      "execution_count": null,
      "metadata": {
        "colab": {
          "base_uri": "https://localhost:8080/"
        },
        "id": "zMD7SUquLj-r",
        "outputId": "242812b7-4cc5-4159-d470-90140c617f1e"
      },
      "outputs": [
        {
          "name": "stdout",
          "output_type": "stream",
          "text": [
            "[['宿泊日', '宿泊日数', '国籍', '性別', '年齢'], ['2022/05/15', '2', '日本', '男性', '28'], ['2022/06/20', '2', '日本', '男性', '51']]\n"
          ]
        }
      ],
      "source": [
        "with open(CSV_DIR + 'guests.csv', 'r') as f:\n",
        "    reader = csv.reader(f)\n",
        "\n",
        "    #CSV全体を2次元リストとして読み込み\n",
        "    data = [row for row in reader]\n",
        "\n",
        "    #1行目から3行目を表示\n",
        "    print(data[0:3])"
      ]
    },
    {
      "cell_type": "markdown",
      "metadata": {
        "id": "WiaUMMa6MFPT"
      },
      "source": [
        "#### 行と列の入れ替え（転置）"
      ]
    },
    {
      "cell_type": "code",
      "execution_count": null,
      "metadata": {
        "colab": {
          "base_uri": "https://localhost:8080/"
        },
        "id": "h3UX2ECfMFiQ",
        "outputId": "1b961769-646f-4d82-8ace-fe641143e156"
      },
      "outputs": [
        {
          "name": "stdout",
          "output_type": "stream",
          "text": [
            "('国籍', '日本', '日本', 'イギリス', 'イギリス', '日本')\n"
          ]
        }
      ],
      "source": [
        "with open(CSV_DIR + 'guests.csv', 'r') as f:\n",
        "    reader = csv.reader(f)\n",
        "    data = [row for row in reader]\n",
        "\n",
        "    #zip関数で2次元リストの行と列を入れ替える\n",
        "    data_t = list(zip(*data))\n",
        "\n",
        "    #元データの3列目（国籍）を出力\n",
        "    print(data_t[2])"
      ]
    },
    {
      "cell_type": "markdown",
      "metadata": {
        "id": "7JUMV5yEMfX0"
      },
      "source": [
        "## Pandasライブラリを使う方法 | 推奨\n",
        "\n",
        "大規模なデータの読み込み・データ分析・統計量の計算などには、数値計算ライブラリを活用しましょう。"
      ]
    },
    {
      "cell_type": "code",
      "execution_count": null,
      "metadata": {
        "colab": {
          "base_uri": "https://localhost:8080/"
        },
        "id": "dsENz45nMXS2",
        "outputId": "a52ac002-8340-40e3-ab0a-4e2d84c782b9"
      },
      "outputs": [
        {
          "name": "stdout",
          "output_type": "stream",
          "text": [
            "   sepal_length  sepal_width  petal_length  petal_width species\n",
            "0           5.1          3.5           1.4          0.2  setosa\n",
            "1           4.9          3.0           1.4          0.2  setosa\n",
            "2           4.7          3.2           1.3          0.2  setosa\n",
            "3           4.6          3.1           1.5          0.2  setosa\n",
            "4           5.0          3.6           1.4          0.2  setosa\n",
            "/-------------------------------------------------------------------------------------------------/\n",
            "カラム名表示\n",
            "Index(['sepal_length', 'sepal_width', 'petal_length', 'petal_width',\n",
            "       'species'],\n",
            "      dtype='object')\n",
            "/-------------------------------------------------------------------------------------------------/\n"
          ]
        }
      ],
      "source": [
        "import pandas as pd\n",
        "df = pd.read_csv('https://raw.githubusercontent.com/mwaskom/seaborn-data/master/iris.csv')\n",
        "\n",
        "# データの先頭をいくつか表示\n",
        "print(df.head())\n",
        "\n",
        "print('/-------------------------------------------------------------------------------------------------/')\n",
        "print('カラム名表示')\n",
        "print(df.columns)\n",
        "print('/-------------------------------------------------------------------------------------------------/')"
      ]
    },
    {
      "cell_type": "markdown",
      "metadata": {
        "id": "qskudESGNbkj"
      },
      "source": [
        "### 範囲を指定して抽出\n",
        "\n",
        "スライス表記を使って欲しいデータを抽出してみましょう。"
      ]
    },
    {
      "cell_type": "code",
      "execution_count": null,
      "metadata": {
        "colab": {
          "base_uri": "https://localhost:8080/"
        },
        "id": "m-Nv9UB1NYvG",
        "outputId": "e9454f19-1587-46d0-efa8-606a95ec0151"
      },
      "outputs": [
        {
          "name": "stdout",
          "output_type": "stream",
          "text": [
            "[[5.1 3.5 1.4 0.2 'setosa']\n",
            " [4.9 3.0 1.4 0.2 'setosa']\n",
            " [4.7 3.2 1.3 0.2 'setosa']]\n",
            "[[3.5 1.4 0.2]\n",
            " [3.0 1.4 0.2]\n",
            " [3.2 1.3 0.2]]\n",
            "/-------------------------------------------------------------------------------------------------/\n",
            "   sepal_width  petal_length  petal_width\n",
            "0          3.5           1.4          0.2\n",
            "1          3.0           1.4          0.2\n",
            "2          3.2           1.3          0.2\n",
            "<class 'numpy.ndarray'>\n",
            "<class 'pandas.core.frame.DataFrame'>\n"
          ]
        }
      ],
      "source": [
        "# 最初から3行分を出力\n",
        "print(df.values[:3,:])\n",
        "# 最初から3行分、2列目から4列目を出力\n",
        "print(df.values[:3, 1:4])\n",
        "\n",
        "print('/-------------------------------------------------------------------------------------------------/')\n",
        "\n",
        "# 最初から3行分、2列目から4列目を出力\n",
        "print(df.iloc[:3, 1:4])\n",
        "\n",
        "# データ型の表示\n",
        "print(type(df.values[:3, 1:4]))\n",
        "\n",
        "# class 'numpy.ndarray'\n",
        "\n",
        "print(type(df.iloc[:3, 1:4]))\n",
        "\n",
        "#class 'pandas.core.frame.DataFrame'"
      ]
    },
    {
      "cell_type": "markdown",
      "metadata": {
        "id": "u1Ym4ofoN4bF"
      },
      "source": [
        "### カラム名の指定 | locメソッド\n"
      ]
    },
    {
      "cell_type": "code",
      "execution_count": null,
      "metadata": {
        "colab": {
          "base_uri": "https://localhost:8080/"
        },
        "id": "BhbpiH6yOHmK",
        "outputId": "aeb3960f-3ffb-4cea-8ced-ea3f8d265667"
      },
      "outputs": [
        {
          "name": "stdout",
          "output_type": "stream",
          "text": [
            "   sepal_length  sepal_width\n",
            "0           5.1          3.5\n",
            "1           4.9          3.0\n",
            "2           4.7          3.2\n",
            "3           4.6          3.1\n",
            "     petal_length\n",
            "0             1.4\n",
            "1             1.4\n",
            "2             1.3\n",
            "3             1.5\n",
            "4             1.4\n",
            "..            ...\n",
            "145           5.2\n",
            "146           5.0\n",
            "147           5.2\n",
            "148           5.4\n",
            "149           5.1\n",
            "\n",
            "[150 rows x 1 columns]\n"
          ]
        }
      ],
      "source": [
        "# 最初から3行分の、がく片長さとがく片の幅を出力\n",
        "print(df.loc[:3, \"sepal_length\":\"sepal_width\"])\n",
        "\n",
        "#全てのデータの花びらの長さだけを抽出\n",
        "print(df.loc[:, \"petal_length\":\"petal_length\"])"
      ]
    },
    {
      "cell_type": "markdown",
      "metadata": {
        "id": "ZApr_dWeONbn"
      },
      "source": [
        "### データの統計量を求める"
      ]
    },
    {
      "cell_type": "code",
      "execution_count": null,
      "metadata": {
        "colab": {
          "base_uri": "https://localhost:8080/"
        },
        "id": "kIn0SM2jOWxH",
        "outputId": "1741427a-f6ad-4227-a162-c07b538b39bf"
      },
      "outputs": [
        {
          "name": "stdout",
          "output_type": "stream",
          "text": [
            "1.5254901960784315\n",
            "4.294117647058823\n",
            "5.5520000000000005\n"
          ]
        }
      ],
      "source": [
        "# 1品種目(setosa)の花びらの長さの平均値\n",
        "m1 = df.loc[0:50, \"petal_length\"].mean()\n",
        "print(m1)\n",
        "\n",
        "# 2品種目(versicolor)の花びらの長さの平均値\n",
        "m2 = df.loc[50:100, \"petal_length\"].mean()\n",
        "print(m2)\n",
        "\n",
        "# 3品種目(virginica)の花びらの長さの平均値\n",
        "m3 = df.loc[100:150, \"petal_length\"].mean()\n",
        "print(m3)"
      ]
    },
    {
      "cell_type": "markdown",
      "metadata": {
        "id": "HYfeVSS5Oiz7"
      },
      "source": [
        "#### 公式ドキュメント（英語）\n",
        "\n",
        "[DataFrameからのデータ抽出テクニック](https://pandas.pydata.org/docs/getting_started/intro_tutorials/03_subset_data.html)\n",
        "\n",
        "[pandas dataframe 統計量](https://pandas.pydata.org/docs/getting_started/intro_tutorials/06_calculate_statistics.html)\n"
      ]
    }
  ],
  "metadata": {
    "colab": {
      "provenance": []
    },
    "kernelspec": {
      "display_name": "Python 3",
      "name": "python3"
    },
    "language_info": {
      "name": "python"
    }
  },
  "nbformat": 4,
  "nbformat_minor": 0
}
